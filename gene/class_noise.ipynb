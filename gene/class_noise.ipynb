{
 "cells": [
  {
   "cell_type": "code",
   "execution_count": 1,
   "metadata": {},
   "outputs": [],
   "source": [
    "import pandas as pd\n",
    "import numpy as np\n",
    "import pickle\n",
    "import random\n",
    "%matplotlib inline\n",
    "import matplotlib.pyplot as plt"
   ]
  },
  {
   "cell_type": "code",
   "execution_count": 2,
   "metadata": {},
   "outputs": [
    {
     "data": {
      "text/plain": [
       "6137"
      ]
     },
     "execution_count": 2,
     "metadata": {},
     "output_type": "execute_result"
    }
   ],
   "source": [
    "with open('./yeast_networks/processed_data/yeast_stress_feature_6138_174.pkl', 'rb') as f:\n",
    "    yeast_stress_feature = pickle.load(f)\n",
    "yeast_stress_feature.__len__()"
   ]
  },
  {
   "cell_type": "code",
   "execution_count": 3,
   "metadata": {},
   "outputs": [],
   "source": [
    "with open('./yeast_networks/processed_data/yeast_tf_names.pkl', 'rb') as f:\n",
    "    yeast_tf_name = pickle.load(f)"
   ]
  },
  {
   "cell_type": "code",
   "execution_count": 4,
   "metadata": {},
   "outputs": [
    {
     "data": {
      "text/plain": [
       "536"
      ]
     },
     "execution_count": 4,
     "metadata": {},
     "output_type": "execute_result"
    }
   ],
   "source": [
    "yeast_tf_name.__len__()"
   ]
  },
  {
   "cell_type": "code",
   "execution_count": 5,
   "metadata": {},
   "outputs": [],
   "source": [
    "gene_set = set(yeast_stress_feature.keys()) - yeast_tf_name"
   ]
  },
  {
   "cell_type": "code",
   "execution_count": 6,
   "metadata": {},
   "outputs": [],
   "source": [
    "Chip_prior_yeast = pd.read_csv('./yeast_networks/priors/ChIP_prior.txt', sep='\\t', header=None)\n",
    "Ko_prior_yeast = pd.read_csv('./yeast_networks/priors/KO_prior.txt', sep='\\t', header=None)"
   ]
  },
  {
   "cell_type": "code",
   "execution_count": 7,
   "metadata": {},
   "outputs": [
    {
     "data": {
      "text/plain": [
       "((245784, 3), (110487, 3))"
      ]
     },
     "execution_count": 7,
     "metadata": {},
     "output_type": "execute_result"
    }
   ],
   "source": [
    "Chip_prior_yeast.shape, Ko_prior_yeast.shape"
   ]
  },
  {
   "cell_type": "code",
   "execution_count": 8,
   "metadata": {},
   "outputs": [],
   "source": [
    "chip_prior_pair = []\n",
    "chip_pair_dict = {}\n",
    "for row in Chip_prior_yeast.index:\n",
    "    pair = (Chip_prior_yeast.loc[row, 0], Chip_prior_yeast.loc[row, 1])\n",
    "    chip_prior_pair.append(pair)\n",
    "    chip_pair_dict[pair] = Chip_prior_yeast.loc[row, 2]  "
   ]
  },
  {
   "cell_type": "code",
   "execution_count": 9,
   "metadata": {},
   "outputs": [],
   "source": [
    "ko_prior_pair = []\n",
    "ko_pair_dict = {}\n",
    "for row in Ko_prior_yeast.index:\n",
    "    pair = (Ko_prior_yeast.loc[row, 0], Ko_prior_yeast.loc[row, 1])\n",
    "    ko_prior_pair.append(pair)\n",
    "    ko_pair_dict[pair] = Ko_prior_yeast.loc[row, 2] "
   ]
  },
  {
   "cell_type": "code",
   "execution_count": 10,
   "metadata": {},
   "outputs": [],
   "source": [
    "common_pair = set(chip_prior_pair) & set(ko_prior_pair)"
   ]
  },
  {
   "cell_type": "code",
   "execution_count": 11,
   "metadata": {},
   "outputs": [
    {
     "data": {
      "text/plain": [
       "7027"
      ]
     },
     "execution_count": 11,
     "metadata": {},
     "output_type": "execute_result"
    }
   ],
   "source": [
    "common_pair.__len__()"
   ]
  },
  {
   "cell_type": "code",
   "execution_count": 12,
   "metadata": {},
   "outputs": [],
   "source": [
    "joint_pair = set(chip_prior_pair) | set(ko_prior_pair)"
   ]
  },
  {
   "cell_type": "code",
   "execution_count": 13,
   "metadata": {},
   "outputs": [
    {
     "data": {
      "text/plain": [
       "349244"
      ]
     },
     "execution_count": 13,
     "metadata": {},
     "output_type": "execute_result"
    }
   ],
   "source": [
    "joint_pair.__len__()"
   ]
  },
  {
   "cell_type": "code",
   "execution_count": 14,
   "metadata": {},
   "outputs": [
    {
     "data": {
      "text/plain": [
       "(6359, 6359)"
      ]
     },
     "execution_count": 14,
     "metadata": {},
     "output_type": "execute_result"
    }
   ],
   "source": [
    "prior_train_pos = []\n",
    "# chip_prior_set = set(chip_prior_pair)\n",
    "# pos_prior = Chip_prior_yeast[Chip_prior_yeast[2]>0.9]\n",
    "gene_list = []\n",
    "tf_list = []\n",
    "for pair in common_pair:\n",
    "    if pair[0] in yeast_tf_name and pair[1] in gene_set:\n",
    "        prior_train_pos.append(pair)\n",
    "        tf_list.append(pair[0])\n",
    "        gene_list.append(pair[1])\n",
    "\n",
    "prior_train_neg = []\n",
    "while len(prior_train_neg)<len(prior_train_pos):\n",
    "    tf_ = random.choice(tf_list)\n",
    "    gene_ = random.choice(gene_list)\n",
    "    if tf_ != gene_:\n",
    "        tmp_pair = (tf_, gene_)\n",
    "        if tmp_pair not in joint_pair:\n",
    "            prior_train_neg.append(tmp_pair)\n",
    "prior_train_pos.__len__(), prior_train_neg.__len__()"
   ]
  },
  {
   "cell_type": "code",
   "execution_count": 15,
   "metadata": {},
   "outputs": [],
   "source": [
    "# with open('train_prior3.pkl', 'wb') as f:\n",
    "#     pickle.dump(train_pos, f)\n",
    "#     pickle.dump(train_neg, f)"
   ]
  },
  {
   "cell_type": "code",
   "execution_count": 15,
   "metadata": {},
   "outputs": [
    {
     "data": {
      "text/plain": [
       "7797"
      ]
     },
     "execution_count": 15,
     "metadata": {},
     "output_type": "execute_result"
    }
   ],
   "source": [
    "with open('./yeast_networks/processed_data/yeast_gold_stress.pkl', 'rb') as f:\n",
    "    yeast_stress_gold = pickle.load(f)\n",
    "yeast_stress_gold.__len__()"
   ]
  },
  {
   "cell_type": "code",
   "execution_count": 42,
   "metadata": {},
   "outputs": [
    {
     "data": {
      "text/plain": [
       "('YPR104C', 'YNL301C')"
      ]
     },
     "execution_count": 42,
     "metadata": {},
     "output_type": "execute_result"
    }
   ],
   "source": [
    "yeast_stress_gold[0]"
   ]
  },
  {
   "cell_type": "code",
   "execution_count": 43,
   "metadata": {},
   "outputs": [],
   "source": [
    "df = pd.DataFrame(yeast_stress_gold)"
   ]
  },
  {
   "cell_type": "code",
   "execution_count": 45,
   "metadata": {},
   "outputs": [],
   "source": [
    "df.to_csv('./yeast_networks/gold/gold.csv', sep='\\t', header=None, index=None)"
   ]
  },
  {
   "cell_type": "code",
   "execution_count": 17,
   "metadata": {},
   "outputs": [],
   "source": [
    "#为gold数据按照tf分堆，以此训练分类器\n",
    "tf_gene_dict = {}\n",
    "for pair in yeast_stress_gold:\n",
    "    try:\n",
    "        tf_gene_dict[pair[0]].append(pair[1])\n",
    "    except KeyError:\n",
    "        tf_gene_dict[pair[0]] = [pair[1]]\n",
    "\n",
    "tf_gene_count = []\n",
    "for tf in tf_gene_dict.keys():\n",
    "    tf_gene_count.append([tf, len(tf_gene_dict[tf])])\n",
    "tf_gene_count = sorted(tf_gene_count, key=lambda x:x[1], reverse=True)"
   ]
  },
  {
   "cell_type": "code",
   "execution_count": 16,
   "metadata": {},
   "outputs": [],
   "source": [
    "# tf_gene_count"
   ]
  },
  {
   "cell_type": "code",
   "execution_count": 24,
   "metadata": {},
   "outputs": [],
   "source": [
    "import networkx as nx"
   ]
  },
  {
   "cell_type": "code",
   "execution_count": 27,
   "metadata": {},
   "outputs": [],
   "source": [
    "def graph_matrix(edge_list):  # networkx 生成图，返回图的邻接矩阵，稀疏表达\n",
    "    nodes = set()\n",
    "    edges = []\n",
    "    for edge in edge_list:\n",
    "        from_node = edge[0]\n",
    "        to_node = edge[1]\n",
    "        edges.append(edge)\n",
    "        nodes.add(from_node)\n",
    "        nodes.add(to_node)\n",
    "    G1 = nx.Graph()\n",
    "    # node_num = len(nodes)\n",
    "    for i in range(len(nodes)):\n",
    "        G1.add_node(nodes.pop())\n",
    "    for item in edges:\n",
    "        G1.add_edge(item[0], item[1])\n",
    "    return G1"
   ]
  },
  {
   "cell_type": "code",
   "execution_count": 34,
   "metadata": {},
   "outputs": [],
   "source": [
    "G = graph_matrix(yeast_stress_gold)"
   ]
  },
  {
   "cell_type": "code",
   "execution_count": 41,
   "metadata": {},
   "outputs": [
    {
     "data": {
      "text/plain": [
       "<matplotlib.collections.LineCollection at 0x29cad7b8>"
      ]
     },
     "execution_count": 41,
     "metadata": {},
     "output_type": "execute_result"
    },
    {
     "data": {
      "image/png": "[encoded data removed]",
      "text/plain": [
       "<matplotlib.figure.Figure at 0x25985be0>"
      ]
     },
     "metadata": {},
     "output_type": "display_data"
    }
   ],
   "source": [
    "nx.draw_networkx_edges(G, pos=nx.spring_layout(G), node_size=30, font_size=0)"
   ]
  },
  {
   "cell_type": "code",
   "execution_count": 36,
   "metadata": {},
   "outputs": [],
   "source": [
    "plt.show()"
   ]
  },
  {
   "cell_type": "code",
   "execution_count": null,
   "metadata": {},
   "outputs": [],
   "source": []
  },
  {
   "cell_type": "code",
   "execution_count": 27,
   "metadata": {},
   "outputs": [],
   "source": [
    "yeast_stress = pd.read_csv('./yeast_networks/gold/YEASTRACT_Type2.Stress_4282.txt', sep='\\t', header=None)"
   ]
  },
  {
   "cell_type": "code",
   "execution_count": 28,
   "metadata": {},
   "outputs": [
    {
     "data": {
      "text/html": [
       "<div>\n",
       "<style scoped>\n",
       "    .dataframe tbody tr th:only-of-type {\n",
       "        vertical-align: middle;\n",
       "    }\n",
       "\n",
       "    .dataframe tbody tr th {\n",
       "        vertical-align: top;\n",
       "    }\n",
       "\n",
       "    .dataframe thead th {\n",
       "        text-align: right;\n",
       "    }\n",
       "</style>\n",
       "<table border=\"1\" class=\"dataframe\">\n",
       "  <thead>\n",
       "    <tr style=\"text-align: right;\">\n",
       "      <th></th>\n",
       "      <th>0</th>\n",
       "      <th>1</th>\n",
       "    </tr>\n",
       "  </thead>\n",
       "  <tbody>\n",
       "    <tr>\n",
       "      <th>0</th>\n",
       "      <td>YNL216W</td>\n",
       "      <td>YPR079W</td>\n",
       "    </tr>\n",
       "    <tr>\n",
       "      <th>1</th>\n",
       "      <td>YPL248C</td>\n",
       "      <td>YBR020W</td>\n",
       "    </tr>\n",
       "    <tr>\n",
       "      <th>2</th>\n",
       "      <td>YMR016C</td>\n",
       "      <td>YGL125W</td>\n",
       "    </tr>\n",
       "    <tr>\n",
       "      <th>3</th>\n",
       "      <td>YEL009C</td>\n",
       "      <td>YGR124W</td>\n",
       "    </tr>\n",
       "    <tr>\n",
       "      <th>4</th>\n",
       "      <td>YLR223C</td>\n",
       "      <td>YJL178C</td>\n",
       "    </tr>\n",
       "  </tbody>\n",
       "</table>\n",
       "</div>"
      ],
      "text/plain": [
       "         0        1\n",
       "0  YNL216W  YPR079W\n",
       "1  YPL248C  YBR020W\n",
       "2  YMR016C  YGL125W\n",
       "3  YEL009C  YGR124W\n",
       "4  YLR223C  YJL178C"
      ]
     },
     "execution_count": 28,
     "metadata": {},
     "output_type": "execute_result"
    }
   ],
   "source": [
    "yeast_stress.head()"
   ]
  },
  {
   "cell_type": "code",
   "execution_count": 29,
   "metadata": {},
   "outputs": [
    {
     "data": {
      "text/plain": [
       "119"
      ]
     },
     "execution_count": 29,
     "metadata": {},
     "output_type": "execute_result"
    }
   ],
   "source": [
    "len(set(yeast_stress[0]) & yeast_tf_name)"
   ]
  },
  {
   "cell_type": "code",
   "execution_count": 30,
   "metadata": {},
   "outputs": [
    {
     "data": {
      "text/plain": [
       "210"
      ]
     },
     "execution_count": 30,
     "metadata": {},
     "output_type": "execute_result"
    }
   ],
   "source": [
    "len(set(yeast_stress[1]) & yeast_tf_name)"
   ]
  },
  {
   "cell_type": "code",
   "execution_count": 36,
   "metadata": {},
   "outputs": [],
   "source": [
    "yeast_stress = yeast_stress.values"
   ]
  },
  {
   "cell_type": "code",
   "execution_count": 21,
   "metadata": {},
   "outputs": [],
   "source": [
    "def split_by_tf(yeast_stress_gold):\n",
    "    #为gold数据按照tf分堆，以此训练分类器\n",
    "    tf_gene_dict = {}\n",
    "    for pair in yeast_stress_gold:\n",
    "        try:\n",
    "            tf_gene_dict[pair[0]].append(pair[1])\n",
    "        except KeyError:\n",
    "            tf_gene_dict[pair[0]] = [pair[1]]\n",
    "\n",
    "    tf_gene_count = []\n",
    "    for tf in tf_gene_dict.keys():\n",
    "        tf_gene_count.append([tf, len(tf_gene_dict[tf])])\n",
    "    tf_gene_count = sorted(tf_gene_count, key=lambda x:x[1], reverse=True)\n",
    "    return tf_gene_dict, tf_gene_count"
   ]
  },
  {
   "cell_type": "code",
   "execution_count": 32,
   "metadata": {},
   "outputs": [],
   "source": [
    "tf_gene_dict, tf_gene_count = split_by_tf(yeast_stress)"
   ]
  },
  {
   "cell_type": "code",
   "execution_count": 199,
   "metadata": {},
   "outputs": [
    {
     "data": {
      "text/plain": [
       "[['YNL216W', 590],\n",
       " ['YHR084W', 478],\n",
       " ['YPR104C', 224],\n",
       " ['YEL009C', 197],\n",
       " ['YHR206W', 162],\n",
       " ['YMR037C', 150],\n",
       " ['YKL112W', 138],\n",
       " ['YML007W', 130],\n",
       " ['YBR049C', 110],\n",
       " ['YKL062W', 99],\n",
       " ['YER111C', 96],\n",
       " ['YLR403W', 95],\n",
       " ['YLR223C', 92],\n",
       " ['YMR016C', 90],\n",
       " ['YGL073W', 82],\n",
       " ['YGL013C', 75],\n",
       " ['YNL167C', 70],\n",
       " ['YDL020C', 63],\n",
       " ['YGL071W', 61],\n",
       " ['YNL027W', 56],\n",
       " ['YBL005W', 54],\n",
       " ['YER040W', 52],\n",
       " ['YDR216W', 45],\n",
       " ['YBR083W', 44],\n",
       " ['YKL109W', 37],\n",
       " ['YDR043C', 36],\n",
       " ['YOR028C', 36],\n",
       " ['YLR256W', 34],\n",
       " ['YPR065W', 32],\n",
       " ['YKR099W', 31],\n",
       " ['YDR146C', 30],\n",
       " ['YDR207C', 28],\n",
       " ['YFR034C', 27],\n",
       " ['YNL103W', 27],\n",
       " ['YDR310C', 25],\n",
       " ['YNL068C', 24],\n",
       " ['YAL051W', 23],\n",
       " ['YDL056W', 23],\n",
       " ['YLR176C', 23],\n",
       " ['YPL075W', 22],\n",
       " ['YLR131C', 22],\n",
       " ['YNL199C', 20],\n",
       " ['YPL089C', 20],\n",
       " ['YPL202C', 19],\n",
       " ['YOR363C', 19],\n",
       " ['YJL056C', 18],\n",
       " ['YGL035C', 18],\n",
       " ['YDR259C', 17],\n",
       " ['YPL049C', 17],\n",
       " ['YLR451W', 16],\n",
       " ['YBR182C', 15],\n",
       " ['YML027W', 15],\n",
       " ['YMR043W', 15],\n",
       " ['YOL108C', 15],\n",
       " ['YIL131C', 13],\n",
       " ['YDR423C', 12],\n",
       " ['YDL106C', 12],\n",
       " ['YIL101C', 12],\n",
       " ['YMR280C', 12],\n",
       " ['YHL027W', 12],\n",
       " ['YKR034W', 12],\n",
       " ['YFL031W', 11],\n",
       " ['YDR213W', 10],\n",
       " ['YDR123C', 10],\n",
       " ['YDR451C', 10],\n",
       " ['YGR249W', 9],\n",
       " ['YJR060W', 8],\n",
       " ['YOR162C', 8],\n",
       " ['YGR044C', 8],\n",
       " ['YDR253C', 8],\n",
       " ['YIR033W', 8],\n",
       " ['YBR240C', 7],\n",
       " ['YMR172W', 7],\n",
       " ['YIR017C', 7],\n",
       " ['YFL021W', 6],\n",
       " ['YPL038W', 6],\n",
       " ['YDR096W', 6],\n",
       " ['YBL103C', 6],\n",
       " ['YMR070W', 6],\n",
       " ['YDR463W', 5],\n",
       " ['YKL038W', 5],\n",
       " ['YHR006W', 5],\n",
       " ['YOR172W', 5],\n",
       " ['YGL096W', 5],\n",
       " ['YBL021C', 4],\n",
       " ['YOL067C', 4],\n",
       " ['YOL116W', 4],\n",
       " ['YGL237C', 4],\n",
       " ['YLR228C', 4],\n",
       " ['YPR199C', 4],\n",
       " ['YPL248C', 3],\n",
       " ['YHL020C', 3],\n",
       " ['YJL110C', 3],\n",
       " ['YOR358W', 3],\n",
       " ['YGL209W', 3],\n",
       " ['YDR421W', 3],\n",
       " ['YGL166W', 3],\n",
       " ['YHR178W', 2],\n",
       " ['YKL015W', 2],\n",
       " ['YLR013W', 2],\n",
       " ['YKL185W', 2],\n",
       " ['YER109C', 2],\n",
       " ['YHR124W', 2],\n",
       " ['YDR081C', 1],\n",
       " ['YIR018W', 1],\n",
       " ['YMR021C', 1],\n",
       " ['YPL177C', 1],\n",
       " ['YDL170W', 1],\n",
       " ['YML076C', 1],\n",
       " ['YLR266C', 1],\n",
       " ['YER028C', 1],\n",
       " ['YOR113W', 1],\n",
       " ['YOR140W', 1],\n",
       " ['YIL036W', 1],\n",
       " ['YJL089W', 1],\n",
       " ['YCL055W', 1],\n",
       " ['YGL254W', 1],\n",
       " ['YBR066C', 1],\n",
       " ['YOR032C', 1],\n",
       " ['YPR008W', 1]]"
      ]
     },
     "execution_count": 199,
     "metadata": {},
     "output_type": "execute_result"
    }
   ],
   "source": [
    "tf_gene_count"
   ]
  },
  {
   "cell_type": "code",
   "execution_count": 37,
   "metadata": {},
   "outputs": [],
   "source": [
    "def split_train_data(yeast_stress_gold, test_size=0.2):\n",
    "    data_num = yeast_stress_gold.shape[0]\n",
    "    train_num = int(data_num * (1-test_size))\n",
    "    tf_gene_dict, tf_gene_count = split_by_tf(yeast_stress_gold)\n",
    "    train_pair = []\n",
    "    test_pair = []\n",
    "    train_cnt = 0\n",
    "    for item in tf_gene_count:\n",
    "        train_cnt += item[1]\n",
    "        if train_cnt <= train_num:\n",
    "            for g in tf_gene_dict[item[0]]:\n",
    "                train_pair.append([item[0], g])\n",
    "        else:\n",
    "            for g in tf_gene_dict[item[0]]:\n",
    "                test_pair.append([item[0], g])\n",
    "    return train_pair, test_pair\n"
   ]
  },
  {
   "cell_type": "code",
   "execution_count": 38,
   "metadata": {},
   "outputs": [],
   "source": [
    "train_pair, test_pair = split_train_data(yeast_stress, 0.2)"
   ]
  },
  {
   "cell_type": "code",
   "execution_count": 41,
   "metadata": {},
   "outputs": [
    {
     "data": {
      "text/plain": [
       "(3396, 886)"
      ]
     },
     "execution_count": 41,
     "metadata": {},
     "output_type": "execute_result"
    }
   ],
   "source": [
    "train_pair.__len__(), test_pair.__len__()"
   ]
  },
  {
   "cell_type": "code",
   "execution_count": 51,
   "metadata": {},
   "outputs": [
    {
     "data": {
      "text/plain": [
       "(3877, 398, 0, 7)"
      ]
     },
     "execution_count": 51,
     "metadata": {},
     "output_type": "execute_result"
    }
   ],
   "source": [
    "#左边tf， 右边gene数量\n",
    "# tg = 0\n",
    "# tt = 0\n",
    "# gt = 0\n",
    "# gg = 0\n",
    "# for row in range(yeast_stress.shape[0]):\n",
    "#     g1 = yeast_stress.loc[row, 0]\n",
    "#     g2 = yeast_stress.loc[row, 1]\n",
    "#     if g1 in yeast_tf_name and g2 in gene_set:\n",
    "#         tg +=1\n",
    "#     if g1 in yeast_tf_name and g2 in yeast_tf_name:\n",
    "#         tt +=1\n",
    "#     if g1 in gene_set and g2 in yeast_tf_name:\n",
    "#         gt +=1\n",
    "#     if g1 in gene_set and g2 in gene_set:\n",
    "#         gg +=1\n",
    "#     else:\n",
    "#         pass\n",
    "# tg, tt, gt, gg"
   ]
  },
  {
   "cell_type": "code",
   "execution_count": 42,
   "metadata": {},
   "outputs": [],
   "source": [
    "def make_pos_neg(pos_data):\n",
    "    train_pos = []\n",
    "    gene_list = []\n",
    "    tf_list = []\n",
    "    for pair in pos_data:\n",
    "        if pair[0] in yeast_tf_name and pair[1] in gene_set:\n",
    "            train_pos.append(pair)\n",
    "            tf_list.append(pair[0])\n",
    "            gene_list.append(pair[1])\n",
    "        if pair[0] in yeast_tf_name and pair[1] in yeast_tf_name:\n",
    "            train_pos.append(pair)\n",
    "    train_neg = []\n",
    "    while len(train_neg)<len(train_pos):\n",
    "        tf1 = random.choice(tf_list)\n",
    "        gene2 = random.choice(gene_list)\n",
    "        if tf1 != gene2:\n",
    "            tmp_pair = (tf1, gene2)\n",
    "            if tmp_pair not in joint_pair:\n",
    "                train_neg.append(tmp_pair)\n",
    "    print(train_pos.__len__(), train_neg.__len__())\n",
    "    return train_pos, train_neg"
   ]
  },
  {
   "cell_type": "code",
   "execution_count": 43,
   "metadata": {},
   "outputs": [
    {
     "name": "stdout",
     "output_type": "stream",
     "text": [
      "3396 3396\n"
     ]
    }
   ],
   "source": [
    "train_pos, train_neg = make_pos_neg(train_pair)"
   ]
  },
  {
   "cell_type": "code",
   "execution_count": 44,
   "metadata": {},
   "outputs": [
    {
     "name": "stdout",
     "output_type": "stream",
     "text": [
      "879 879\n"
     ]
    }
   ],
   "source": [
    "test_pos, test_neg = make_pos_neg(test_pair)"
   ]
  },
  {
   "cell_type": "code",
   "execution_count": 45,
   "metadata": {},
   "outputs": [],
   "source": [
    "def transform_data_pkl(train_pos, train_neg, feature_dict):\n",
    "    # 构造正例\n",
    "    a_data = []\n",
    "    b_data = []\n",
    "    label = []\n",
    "    # random.seed = 20\n",
    "    for item in train_pos:\n",
    "        regulatorA = feature_dict[item[0]]\n",
    "        a_data.append(regulatorA)\n",
    "        regulatorB = feature_dict[item[1]]\n",
    "        b_data.append(regulatorB)\n",
    "        label.append([0, 1])\n",
    "    print('all pos sample is ', len(train_pos))\n",
    "\n",
    "    # 构造负例\n",
    "    for item in train_neg:\n",
    "        regulatorA = feature_dict[item[0]]\n",
    "        a_data.append(regulatorA)\n",
    "        regulatorB = feature_dict[item[1]]\n",
    "        b_data.append(regulatorB)\n",
    "        label.append([1, 0])\n",
    "    a_data = np.array(a_data)\n",
    "    b_data = np.array(b_data)\n",
    "\n",
    "    print('data transform done')\n",
    "    train_x = [it for it in zip(a_data, b_data)]\n",
    "    label = np.array(label)\n",
    "    return train_x, label"
   ]
  },
  {
   "cell_type": "code",
   "execution_count": 46,
   "metadata": {},
   "outputs": [
    {
     "name": "stdout",
     "output_type": "stream",
     "text": [
      "all pos sample is  3396\n",
      "data transform done\n",
      "all pos sample is  879\n",
      "data transform done\n"
     ]
    }
   ],
   "source": [
    "yeast_train_x, yeast_train_y = transform_data_pkl(train_pos, train_neg, yeast_stress_feature)\n",
    "yeast_test_x, yeast_test_y = transform_data_pkl(test_pos, test_neg, yeast_stress_feature)"
   ]
  },
  {
   "cell_type": "code",
   "execution_count": 59,
   "metadata": {},
   "outputs": [],
   "source": [
    "from sklearn.preprocessing import normalize"
   ]
  },
  {
   "cell_type": "code",
   "execution_count": 51,
   "metadata": {},
   "outputs": [],
   "source": [
    "# l1 = [[1,2,3],[4,5,6],[7,8,9]]\n",
    "\n",
    "# normalize(l1,norm='max')"
   ]
  },
  {
   "cell_type": "code",
   "execution_count": 47,
   "metadata": {},
   "outputs": [],
   "source": [
    "# print(yeast_train_y[0])\n",
    "# plt.plot(yeast_train_x[0][0], 'r')\n",
    "# plt.plot(yeast_train_x[0][1], 'b')"
   ]
  },
  {
   "cell_type": "code",
   "execution_count": 48,
   "metadata": {},
   "outputs": [],
   "source": [
    "# print(yeast_train_y[1])\n",
    "# plt.plot(yeast_train_x[1][0], 'r')\n",
    "# plt.plot(yeast_train_x[1][1], 'b')"
   ]
  },
  {
   "cell_type": "code",
   "execution_count": 49,
   "metadata": {},
   "outputs": [],
   "source": [
    "# print(yeast_train_y[-1])\n",
    "# plt.plot(yeast_train_x[-1][:173], 'r')\n",
    "# plt.plot(yeast_train_x[-1][173:], 'b')"
   ]
  },
  {
   "cell_type": "code",
   "execution_count": 50,
   "metadata": {},
   "outputs": [],
   "source": [
    "# print(yeast_train_y[-2])\n",
    "# plt.plot(yeast_train_x[-2][:173], 'r')\n",
    "# plt.plot(yeast_train_x[-2][173:], 'b')"
   ]
  },
  {
   "cell_type": "code",
   "execution_count": 52,
   "metadata": {},
   "outputs": [],
   "source": [
    "def merge_ab(yeast_x):\n",
    "    merged_ab = []\n",
    "    for it in yeast_x:\n",
    "        tmp = list(it[0])\n",
    "        tmp.extend(list(it[1]))\n",
    "#         tmp = it[1] - it[0]\n",
    "        merged_ab.append(list(tmp))\n",
    "    return np.array(merged_ab)"
   ]
  },
  {
   "cell_type": "code",
   "execution_count": 53,
   "metadata": {},
   "outputs": [
    {
     "data": {
      "text/plain": [
       "((6792, 346), (1758, 346))"
      ]
     },
     "execution_count": 53,
     "metadata": {},
     "output_type": "execute_result"
    }
   ],
   "source": [
    "yeast_train_x = merge_ab(yeast_train_x)\n",
    "yeast_test_x = merge_ab(yeast_test_x)\n",
    "yeast_train_x.shape, yeast_test_x.shape"
   ]
  },
  {
   "cell_type": "code",
   "execution_count": 55,
   "metadata": {},
   "outputs": [
    {
     "data": {
      "text/plain": [
       "(6792, 2)"
      ]
     },
     "execution_count": 55,
     "metadata": {},
     "output_type": "execute_result"
    }
   ],
   "source": [
    "yeast_train_y.shape"
   ]
  },
  {
   "cell_type": "code",
   "execution_count": 69,
   "metadata": {},
   "outputs": [
    {
     "name": "stdout",
     "output_type": "stream",
     "text": [
      "all pos sample is  6359\n",
      "data transform done\n"
     ]
    }
   ],
   "source": [
    "prior_yeast_train_x, prior_yeast_train_y = transform_data_pkl(prior_train_pos, prior_train_neg, yeast_stress_feature)\n",
    "test_x = merge_ab(prior_yeast_train_x)"
   ]
  },
  {
   "cell_type": "code",
   "execution_count": 70,
   "metadata": {},
   "outputs": [
    {
     "data": {
      "text/plain": [
       "(12718, 346)"
      ]
     },
     "execution_count": 70,
     "metadata": {},
     "output_type": "execute_result"
    }
   ],
   "source": [
    "test_x.shape, prior_yeast_train_y.shape"
   ]
  },
  {
   "cell_type": "code",
   "execution_count": 58,
   "metadata": {},
   "outputs": [],
   "source": [
    "from sklearn.preprocessing import StandardScaler"
   ]
  },
  {
   "cell_type": "code",
   "execution_count": 59,
   "metadata": {},
   "outputs": [],
   "source": [
    "scalar = StandardScaler()\n",
    "scalar.fit(yeast_train_x)\n",
    "yeast_train_x = scalar.transform(yeast_train_x)\n",
    "yeast_test_x = scalar.transform(yeast_test_x)"
   ]
  },
  {
   "cell_type": "code",
   "execution_count": 187,
   "metadata": {},
   "outputs": [],
   "source": [
    "from sklearn.svm import LinearSVC\n",
    "from sklearn.metrics import precision_recall_fscore_support\n",
    "from sklearn.model_selection import  train_test_split\n",
    "from sklearn.svm import SVC\n",
    "from sklearn.ensemble import RandomForestClassifier\n",
    "from sklearn.linear_model import LogisticRegression\n",
    "from sklearn.neighbors import KNeighborsClassifier\n",
    "from sklearn.neural_network import MLPClassifier\n",
    "from sklearn.ensemble import AdaBoostClassifier\n",
    "from sklearn.linear_model import BayesianRidge"
   ]
  },
  {
   "cell_type": "code",
   "execution_count": 92,
   "metadata": {},
   "outputs": [
    {
     "data": {
      "text/plain": [
       "((1710, 346), (1710,))"
      ]
     },
     "execution_count": 92,
     "metadata": {},
     "output_type": "execute_result"
    }
   ],
   "source": [
    "# train_x, dev_x, train_y, dev_y = train_test_split(yeast_train_x, yeast_train_y[:,1], test_size=0.8)\n",
    "# train_x.shape, train_y.shape"
   ]
  },
  {
   "cell_type": "code",
   "execution_count": 197,
   "metadata": {},
   "outputs": [],
   "source": [
    "# clf = RandomForestClassifier(500) #0.5540\n",
    "# clf = LogisticRegression() #0.50\n",
    "# clf = LinearSVC() #0.50\n",
    "# clf = SVC() #0.58\n",
    "# clf = KNeighborsClassifier(n_neighbors=10) #0.5616\n",
    "#0.577\n",
    "# clf = MLPClassifier(hidden_layer_sizes=(200, 100), max_iter=1000, activation='relu', solver='adam', alpha=0.08, learning_rate='adaptive', learning_rate_init=0.001)\n",
    "clf = AdaBoostClassifier(n_estimators=500)\n",
    "clf.fit(yeast_train_x, yeast_train_y[:,1])\n",
    "test_pred_y = clf.predict(yeast_test_x)"
   ]
  },
  {
   "cell_type": "code",
   "execution_count": 198,
   "metadata": {},
   "outputs": [
    {
     "data": {
      "text/plain": [
       "(0.51622137404580148, 0.61547212741751989, 0.56149455111572388, None)"
      ]
     },
     "execution_count": 198,
     "metadata": {},
     "output_type": "execute_result"
    }
   ],
   "source": [
    "precision_recall_fscore_support(y_pred=test_pred_y, y_true=yeast_test_y[:,1], average='binary')"
   ]
  },
  {
   "cell_type": "code",
   "execution_count": null,
   "metadata": {},
   "outputs": [],
   "source": []
  },
  {
   "cell_type": "code",
   "execution_count": 62,
   "metadata": {},
   "outputs": [
    {
     "data": {
      "text/plain": [
       "KNeighborsClassifier(algorithm='auto', leaf_size=30, metric='minkowski',\n",
       "           metric_params=None, n_jobs=1, n_neighbors=10, p=2,\n",
       "           weights='uniform')"
      ]
     },
     "execution_count": 62,
     "metadata": {},
     "output_type": "execute_result"
    }
   ],
   "source": [
    "neigh = KNeighborsClassifier(n_neighbors=10)\n",
    "neigh.fit(yeast_train_x, yeast_train_y[:,1])"
   ]
  },
  {
   "cell_type": "code",
   "execution_count": 63,
   "metadata": {},
   "outputs": [],
   "source": [
    "test_pred_y = neigh.predict(yeast_test_x)"
   ]
  },
  {
   "cell_type": "code",
   "execution_count": 64,
   "metadata": {},
   "outputs": [
    {
     "data": {
      "text/plain": [
       "(0.56164383561643838, 0.41979522184300339, 0.48046875, None)"
      ]
     },
     "execution_count": 64,
     "metadata": {},
     "output_type": "execute_result"
    }
   ],
   "source": [
    "precision_recall_fscore_support(y_pred=test_pred_y, y_true=yeast_test_y[:,1], average='binary')"
   ]
  },
  {
   "cell_type": "code",
   "execution_count": 96,
   "metadata": {},
   "outputs": [],
   "source": [
    "dist, ind = neigh.kneighbors(dev_x[:3], n_neighbors=10, return_distance=True)"
   ]
  },
  {
   "cell_type": "code",
   "execution_count": 65,
   "metadata": {},
   "outputs": [],
   "source": [
    "from sklearn.metrics.pairwise import cosine_similarity"
   ]
  },
  {
   "cell_type": "code",
   "execution_count": 67,
   "metadata": {},
   "outputs": [],
   "source": [
    "cos_sim = cosine_similarity(yeast_train_x)"
   ]
  },
  {
   "cell_type": "code",
   "execution_count": 70,
   "metadata": {},
   "outputs": [],
   "source": [
    "cos_sim = np.abs(cos_sim)"
   ]
  },
  {
   "cell_type": "code",
   "execution_count": 71,
   "metadata": {},
   "outputs": [],
   "source": [
    "from heapq import nlargest"
   ]
  },
  {
   "cell_type": "code",
   "execution_count": 84,
   "metadata": {},
   "outputs": [
    {
     "data": {
      "text/plain": [
       "((6792, 346), (6792, 2))"
      ]
     },
     "execution_count": 84,
     "metadata": {},
     "output_type": "execute_result"
    }
   ],
   "source": [
    "yeast_train_x.shape, yeast_train_y.shape"
   ]
  },
  {
   "cell_type": "code",
   "execution_count": 109,
   "metadata": {},
   "outputs": [],
   "source": [
    "def cal_Pc(yeast_train_x, yeast_train_y, topk=10):\n",
    "    cos_sim = cosine_similarity(yeast_train_x)\n",
    "    cos_sim = np.abs(cos_sim)\n",
    "    Si = []\n",
    "    L_12 = []\n",
    "    Pc =[]\n",
    "    for i in range(len(yeast_train_x)):\n",
    "        top_10 = nlargest(topk, range(len(cos_sim[i])), cos_sim[i].take)[1:]\n",
    "#         print(top_10)\n",
    "        top_10_label = yeast_train_y[top_10]\n",
    "#         print(top_10_label)\n",
    "        sim_10 = cos_sim[i][top_10]\n",
    "#         print(sim_10)\n",
    "        Iij = []\n",
    "        for it in top_10_label:\n",
    "            if it == yeast_train_y[i]:\n",
    "                Iij.append(-1)\n",
    "            else:\n",
    "                Iij.append(1)\n",
    "        s = sum(Iij * sim_10)\n",
    "        Si.append(s)\n",
    "        l1 = sum(abs(sim_10))\n",
    "        l2 = sum([it ** 2 for it in sim_10])\n",
    "        L_12.append(l1 * l2)\n",
    "    for si,li in zip(Si, L_12):\n",
    "        if si >= 0:\n",
    "            pc = 1 - 0.5 * np.exp(-0.5 * (si**4 / li**2))\n",
    "            Pc.append(pc)\n",
    "        else:\n",
    "            pc = 0.5 * np.exp(-0.5 * (si**4 / li**2))\n",
    "            Pc.append(pc)\n",
    "    return Si, L_12, Pc"
   ]
  },
  {
   "cell_type": "code",
   "execution_count": 111,
   "metadata": {},
   "outputs": [],
   "source": [
    "slp = cal_Pc(yeast_train_x, yeast_train_y[:,1])"
   ]
  },
  {
   "cell_type": "code",
   "execution_count": 112,
   "metadata": {},
   "outputs": [
    {
     "data": {
      "text/plain": [
       "[<matplotlib.lines.Line2D at 0x22287470>]"
      ]
     },
     "execution_count": 112,
     "metadata": {},
     "output_type": "execute_result"
    },
    {
     "data": {
      "image/png": "[encoded data removed]",
      "text/plain": [
       "<matplotlib.figure.Figure at 0x22162f28>"
      ]
     },
     "metadata": {},
     "output_type": "display_data"
    }
   ],
   "source": [
    "plt.plot(slp[2])"
   ]
  },
  {
   "cell_type": "code",
   "execution_count": 138,
   "metadata": {},
   "outputs": [
    {
     "data": {
      "text/plain": [
       "210"
      ]
     },
     "execution_count": 138,
     "metadata": {},
     "output_type": "execute_result"
    }
   ],
   "source": [
    "ll =[]\n",
    "for it in S_x[2]:\n",
    "    if it > 0.6 :\n",
    "        ll.append(1)\n",
    "len(ll)"
   ]
  },
  {
   "cell_type": "code",
   "execution_count": 139,
   "metadata": {},
   "outputs": [
    {
     "data": {
      "text/plain": [
       "0.030918727915194347"
      ]
     },
     "execution_count": 139,
     "metadata": {},
     "output_type": "execute_result"
    }
   ],
   "source": [
    "len(ll) / len(S_x[2])"
   ]
  },
  {
   "cell_type": "code",
   "execution_count": 136,
   "metadata": {},
   "outputs": [
    {
     "data": {
      "text/plain": [
       "0.7388103651354535"
      ]
     },
     "execution_count": 136,
     "metadata": {},
     "output_type": "execute_result"
    }
   ],
   "source": [
    "5018 / 6792"
   ]
  },
  {
   "cell_type": "code",
   "execution_count": null,
   "metadata": {},
   "outputs": [],
   "source": []
  }
 ],
 "metadata": {
  "kernelspec": {
   "display_name": "Python 3",
   "language": "python",
   "name": "python3"
  },
  "language_info": {
   "codemirror_mode": {
    "name": "ipython",
    "version": 3
   },
   "file_extension": ".py",
   "mimetype": "text/x-python",
   "name": "python",
   "nbconvert_exporter": "python",
   "pygments_lexer": "ipython3",
   "version": "3.5.2"
  }
 },
 "nbformat": 4,
 "nbformat_minor": 1
}
